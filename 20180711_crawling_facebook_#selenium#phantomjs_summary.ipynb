{
 "cells": [
  {
   "cell_type": "code",
   "execution_count": 1,
   "metadata": {},
   "outputs": [],
   "source": [
    "import requests,os\n",
    "from bs4 import BeautifulSoup\n",
    "from selenium import webdriver\n",
    "from getpass import getpass\n",
    "from selenium.webdriver.common.keys import Keys"
   ]
  },
  {
   "cell_type": "code",
   "execution_count": null,
   "metadata": {},
   "outputs": [],
   "source": [
    "# 드라이버 실행\n",
    "driver_2 = webdriver.Chrome(\"크롬 드라이버 path\")\n",
    "\n",
    "# url 이동\n",
    "driver_2.get(\"https://m.facebook.com/\")\n",
    "\n",
    "# 요소 선택 및 값 입력\n",
    "driver_2.find_element_by_name(\"email\").send_keys(\"자신의 아이디\")\n",
    "\n",
    "# 요소 선택 및 값 입력 + 비밀번호 *표시\n",
    "pass_1 = getpass(\"password :\")\n",
    "driver_2.find_element_by_name(\"pass\").send_keys(pass_1)\n",
    "\n",
    "# 요소 선택 및 요소 클릭\n",
    "login_2 = driver_2.find_element_by_css_selector(\"button\")\n",
    "login_2.click()\n",
    "button_2 = driver_2.find_element_by_tag_name(\"button\")\n",
    "button_2.click()\n",
    "button_3 = driver_2.find_element_by_id(\"u_0_i\")## 아마 id 값이 지속적으로 변경된다.\n",
    "button_3.click()\n",
    "\n",
    "# 요소 선택 및 값 입력\n",
    "driver_2.find_element_by_name(\"query\").send_keys(\"서울시\")\n",
    "\n",
    "# 요소 선택 및 \"enter\" key 실행\n",
    "driver_2.find_element_by_name(\"query\").send_keys(Keys.ENTER)\n",
    "\n",
    "# 드라이버 조작 및 스크롤 내리기\n",
    "driver_2.execute_script(\"scroll(0,2000);\")\n",
    "\n",
    "# 요소 선택\n",
    "driver_2.find_element_by_partial_link_text(\"게시물\")\n",
    "driver_2.find_element_by_link_text(\"게시물\")"
   ]
  },
  {
   "cell_type": "code",
   "execution_count": null,
   "metadata": {},
   "outputs": [],
   "source": []
  },
  {
   "cell_type": "code",
   "execution_count": null,
   "metadata": {},
   "outputs": [],
   "source": []
  },
  {
   "cell_type": "code",
   "execution_count": null,
   "metadata": {},
   "outputs": [],
   "source": []
  },
  {
   "cell_type": "code",
   "execution_count": null,
   "metadata": {},
   "outputs": [],
   "source": []
  },
  {
   "cell_type": "code",
   "execution_count": null,
   "metadata": {},
   "outputs": [],
   "source": []
  },
  {
   "cell_type": "code",
   "execution_count": null,
   "metadata": {},
   "outputs": [],
   "source": []
  }
 ],
 "metadata": {
  "kernelspec": {
   "display_name": "Python 3",
   "language": "python",
   "name": "python3"
  },
  "language_info": {
   "codemirror_mode": {
    "name": "ipython",
    "version": 3
   },
   "file_extension": ".py",
   "mimetype": "text/x-python",
   "name": "python",
   "nbconvert_exporter": "python",
   "pygments_lexer": "ipython3",
   "version": "3.6.4"
  }
 },
 "nbformat": 4,
 "nbformat_minor": 2
}
