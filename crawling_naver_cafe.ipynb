{
 "cells": [
  {
   "cell_type": "code",
   "execution_count": 2,
   "metadata": {
    "collapsed": true
   },
   "outputs": [],
   "source": [
    "import requests\n",
    "from bs4 import BeautifulSoup"
   ]
  },
  {
   "cell_type": "code",
   "execution_count": 4,
   "metadata": {},
   "outputs": [],
   "source": [
    "#http://cafe.naver.com/malltail#\n",
    "#/ArticleRead.nhn?clubid=21820768&page=1&menuid=761&boardtype=L&articleid=4435607&referrerAllArticles=false#\n",
    "text_1 = []\n",
    "for art_num in range(4429000,4430000):\n",
    "    url_1 = \"http://cafe.naver.com/malltail/ArticleRead.nhn?clubid=21820768&menuid=761&boardtype=L&articleid=\"+str(art_num)+\"&referrerAllArticles=false\"\n",
    "    html_1 = requests.get(url_1).text\n",
    "    soup_1 = BeautifulSoup(html_1,\"html.parser\")\n",
    "    for tag in soup_1.select(\"#tbody .NHN_Writeform_Main > div div span\"):\n",
    "        text_1.append(tag.text)"
   ]
  },
  {
   "cell_type": "code",
   "execution_count": 5,
   "metadata": {},
   "outputs": [
    {
     "data": {
      "text/plain": [
       "['이스라엘 사해를 담은 바디케어 브랜드 사봉',\n",
       " '',\n",
       " '사해는 클레오파트라가 피부를 위해 찾았던 곳으로 유명하죠.',\n",
       " '사해는 풍부한 천연미네랄을 함유하고 있어 피부 속 노폐물을 밖으로 배출해주고',\n",
       " '미네랄을 흡수하여 피부가 보다 촉촉하고 부드럽게 만들어준답니다.',\n",
       " '',\n",
       " '',\n",
       " '▼사봉 브랜드 스토리 보기',\n",
       " '▼',\n",
       " 'https://blog.naver.com/vitatraofficial/221135250065',\n",
       " '',\n",
       " '사봉 샤워오일',\n",
       " '- 에센셜 오일, 아보카도 오일 등이 피부를 부드럽게 케어',\n",
       " '- 보습 효과 &\\xa0',\n",
       " '피부PH 유지',\n",
       " '',\n",
       " '사봉 바디로션',\n",
       " '- 비타민A,E,오메가3,오메가6 성분이 풍부하게 들어있어 피부를 촉촉하게 유지',\n",
       " '- 파라벤, 미네랄 오일 FREE로 자극없이 사용 가능',\n",
       " '',\n",
       " '',\n",
       " '',\n",
       " '',\n",
       " '고급스러운 틴 케이스 포장으로 선물용으로 인기인 사봉 기프트 세트!',\n",
       " '해외여행 시 많이 사 오는 브랜드이기도 한데요.',\n",
       " '굳이 해외에 나가지 않아도 국내보다 저렴하게\\xa0',\n",
       " '비타트라에서 구매하실 수 있습니다 :0',\n",
       " '',\n",
       " '',\n",
       " '사봉 구매하기 ▶\\xa0',\n",
       " 'https://goo.gl/9v2Wvt']"
      ]
     },
     "execution_count": 5,
     "metadata": {},
     "output_type": "execute_result"
    }
   ],
   "source": [
    "text_1"
   ]
  },
  {
   "cell_type": "code",
   "execution_count": null,
   "metadata": {
    "collapsed": true
   },
   "outputs": [],
   "source": []
  }
 ],
 "metadata": {
  "kernelspec": {
   "display_name": "Python 3",
   "language": "python",
   "name": "python3"
  },
  "language_info": {
   "codemirror_mode": {
    "name": "ipython",
    "version": 3
   },
   "file_extension": ".py",
   "mimetype": "text/x-python",
   "name": "python",
   "nbconvert_exporter": "python",
   "pygments_lexer": "ipython3",
   "version": "3.6.1"
  }
 },
 "nbformat": 4,
 "nbformat_minor": 2
}
