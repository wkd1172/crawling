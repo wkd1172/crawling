{
 "cells": [
  {
   "cell_type": "code",
   "execution_count": 1,
   "metadata": {},
   "outputs": [],
   "source": [
    "import pandas as pd\n",
    "import numpy as np\n",
    "from bs4 import BeautifulSoup\n",
    "import requests"
   ]
  },
  {
   "cell_type": "code",
   "execution_count": 2,
   "metadata": {},
   "outputs": [],
   "source": [
    "url = {\n",
    "    \"중앙일보\" : \"https://search.joins.com/TotalNews?page=52&Keyword=%5B%EC%82%AC%EC%84%A4%5D&PeriodType=DirectInput&StartSearchDate=09%2F01%2F2010%2000%3A00%3A00&EndSearchDate=11%2F02%2F2018%2000%3A00%3A00&SortType=New&ScopeType=Title&SourceGroupType=Joongang&ServiceCode=20&SearchCategoryType=TotalNews\",\n",
    "    \"동아일보\" : \"http://news.donga.com/search?query=%EC%82%AC%EC%84%A4&x=0&y=0\",\n",
    "    \"조선일보\" : \"http://search.chosun.com/search/total.search?query=%EC%82%AC%EC%84%A4&pageconf=total\",\n",
    "    \"정책\" : \"http://www.korea.kr/briefing/speechList.do?pageIndex=1&cateId=2&srchType=title&srchKeyword=%EC%A0%95%EC%B1%85\"\n",
    "}"
   ]
  },
  {
   "cell_type": "code",
   "execution_count": 3,
   "metadata": {},
   "outputs": [
    {
     "data": {
      "text/plain": [
       "'https://search.joins.com/TotalNews?page=52&Keyword=%5B%EC%82%AC%EC%84%A4%5D&PeriodType=DirectInput&StartSearchDate=09%2F01%2F2010%2000%3A00%3A00&EndSearchDate=11%2F02%2F2018%2000%3A00%3A00&SortType=New&ScopeType=Title&SourceGroupType=Joongang&ServiceCode=20&SearchCategoryType=TotalNews'"
      ]
     },
     "execution_count": 3,
     "metadata": {},
     "output_type": "execute_result"
    }
   ],
   "source": [
    "url[\"중앙일보\"]"
   ]
  },
  {
   "cell_type": "code",
   "execution_count": 9,
   "metadata": {},
   "outputs": [
    {
     "name": "stdout",
     "output_type": "stream",
     "text": [
      "200\n",
      "200\n",
      "200\n",
      "200\n"
     ]
    }
   ],
   "source": [
    "## 일단 응답 체크\n",
    "list = [url[\"중앙일보\"],url[\"동아일보\"],url[\"조선일보\"],url[\"정책\"]]\n",
    "for site in list:\n",
    "    response = requests.get(site)\n",
    "    print(response.status_code)"
   ]
  },
  {
   "cell_type": "code",
   "execution_count": 25,
   "metadata": {},
   "outputs": [
    {
     "data": {
      "text/html": [
       "<div>\n",
       "<style scoped>\n",
       "    .dataframe tbody tr th:only-of-type {\n",
       "        vertical-align: middle;\n",
       "    }\n",
       "\n",
       "    .dataframe tbody tr th {\n",
       "        vertical-align: top;\n",
       "    }\n",
       "\n",
       "    .dataframe thead th {\n",
       "        text-align: right;\n",
       "    }\n",
       "</style>\n",
       "<table border=\"1\" class=\"dataframe\">\n",
       "  <thead>\n",
       "    <tr style=\"text-align: right;\">\n",
       "      <th></th>\n",
       "      <th>site</th>\n",
       "      <th>contents</th>\n",
       "    </tr>\n",
       "  </thead>\n",
       "  <tbody>\n",
       "    <tr>\n",
       "      <th>0</th>\n",
       "      <td>중앙</td>\n",
       "      <td>&lt;body class=\"aside_off\"&gt;\n",
       "&lt;input type=\"hidden\" ...</td>\n",
       "    </tr>\n",
       "    <tr>\n",
       "      <th>1</th>\n",
       "      <td>동아</td>\n",
       "      <td>&lt;body&gt;\n",
       "&lt;div class=\"skip\"&gt;&lt;a href=\"#contents\"&gt;본...</td>\n",
       "    </tr>\n",
       "    <tr>\n",
       "      <th>2</th>\n",
       "      <td>조선</td>\n",
       "      <td>&lt;body&gt;\n",
       "&lt;!-- skip-content --&gt;\n",
       "&lt;div class=\"skip-...</td>\n",
       "    </tr>\n",
       "    <tr>\n",
       "      <th>3</th>\n",
       "      <td>정책</td>\n",
       "      <td>&lt;body class=\"sub\"&gt; &lt;!-- S: accessibility --&gt;\n",
       "&lt;...</td>\n",
       "    </tr>\n",
       "  </tbody>\n",
       "</table>\n",
       "</div>"
      ],
      "text/plain": [
       "  site                                           contents\n",
       "0   중앙  <body class=\"aside_off\">\n",
       "<input type=\"hidden\" ...\n",
       "1   동아  <body>\n",
       "<div class=\"skip\"><a href=\"#contents\">본...\n",
       "2   조선  <body>\n",
       "<!-- skip-content -->\n",
       "<div class=\"skip-...\n",
       "3   정책  <body class=\"sub\"> <!-- S: accessibility -->\n",
       "<..."
      ]
     },
     "execution_count": 25,
     "metadata": {},
     "output_type": "execute_result"
    }
   ],
   "source": [
    "## 사이트 불러오기\n",
    "soup_1 = []\n",
    "col_1 = [\"중앙\",\"동아\",\"조선\",\"정책\"]\n",
    "for site in list:\n",
    "    html = requests.get(site).text\n",
    "    soup = BeautifulSoup(html,\"html.parser\")\n",
    "    soup_1.append(soup.find(\"body\"))\n",
    "    #print(soup.find(\"head\"))\n",
    "\n",
    "data = {\"site\" : col_1, \"contents\" : soup_1} \n",
    "dataframe = pd.DataFrame(data,columns= {\"site\" : col_1,\"contents\":soup_1})\n",
    "dataframe"
   ]
  },
  {
   "cell_type": "code",
   "execution_count": 22,
   "metadata": {},
   "outputs": [
    {
     "data": {
      "text/html": [
       "<div>\n",
       "<style scoped>\n",
       "    .dataframe tbody tr th:only-of-type {\n",
       "        vertical-align: middle;\n",
       "    }\n",
       "\n",
       "    .dataframe tbody tr th {\n",
       "        vertical-align: top;\n",
       "    }\n",
       "\n",
       "    .dataframe thead th {\n",
       "        text-align: right;\n",
       "    }\n",
       "</style>\n",
       "<table border=\"1\" class=\"dataframe\">\n",
       "  <thead>\n",
       "    <tr style=\"text-align: right;\">\n",
       "      <th></th>\n",
       "      <th>site</th>\n",
       "      <th>contents</th>\n",
       "    </tr>\n",
       "  </thead>\n",
       "  <tbody>\n",
       "  </tbody>\n",
       "</table>\n",
       "</div>"
      ],
      "text/plain": [
       "Empty DataFrame\n",
       "Columns: [site, contents]\n",
       "Index: []"
      ]
     },
     "execution_count": 22,
     "metadata": {},
     "output_type": "execute_result"
    }
   ],
   "source": [
    "dataframe"
   ]
  },
  {
   "cell_type": "code",
   "execution_count": 23,
   "metadata": {},
   "outputs": [],
   "source": [
    "??pd.DataFrame"
   ]
  },
  {
   "cell_type": "code",
   "execution_count": 26,
   "metadata": {},
   "outputs": [
    {
     "ename": "SyntaxError",
     "evalue": "invalid syntax (<ipython-input-26-f45e98e53b0e>, line 3)",
     "output_type": "error",
     "traceback": [
      "\u001b[1;36m  File \u001b[1;32m\"<ipython-input-26-f45e98e53b0e>\"\u001b[1;36m, line \u001b[1;32m3\u001b[0m\n\u001b[1;33m    dataframe =\u001b[0m\n\u001b[1;37m                ^\u001b[0m\n\u001b[1;31mSyntaxError\u001b[0m\u001b[1;31m:\u001b[0m invalid syntax\n"
     ]
    }
   ],
   "source": []
  },
  {
   "cell_type": "code",
   "execution_count": null,
   "metadata": {},
   "outputs": [],
   "source": [
    "imp"
   ]
  }
 ],
 "metadata": {
  "kernelspec": {
   "display_name": "Python 3",
   "language": "python",
   "name": "python3"
  },
  "language_info": {
   "codemirror_mode": {
    "name": "ipython",
    "version": 3
   },
   "file_extension": ".py",
   "mimetype": "text/x-python",
   "name": "python",
   "nbconvert_exporter": "python",
   "pygments_lexer": "ipython3",
   "version": "3.6.4"
  }
 },
 "nbformat": 4,
 "nbformat_minor": 2
}
