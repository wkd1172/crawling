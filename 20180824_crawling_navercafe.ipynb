{
 "cells": [
  {
   "cell_type": "code",
   "execution_count": 1,
   "metadata": {},
   "outputs": [],
   "source": [
    "import pandas as pd\n",
    "import numpy as np\n",
    "import mechanicalsoup\n",
    "from getpass import getpass"
   ]
  },
  {
   "cell_type": "code",
   "execution_count": 2,
   "metadata": {},
   "outputs": [],
   "source": [
    "### setting container\n",
    "\n",
    "container = mechanicalsoup.StatefulBrowser()\n"
   ]
  },
  {
   "cell_type": "code",
   "execution_count": 10,
   "metadata": {},
   "outputs": [
    {
     "name": "stdout",
     "output_type": "stream",
     "text": [
      "key :········\n"
     ]
    }
   ],
   "source": [
    "### setting_login_url\n",
    "\n",
    "url_login =  \"https://nid.naver.com/nidlogin.login?mode=number\"\n",
    "container.open(url_login)\n",
    "container.select_form(\"#frmNIDLogin\")\n",
    "temper_key=  getpass(\"key :\")"
   ]
  },
  {
   "cell_type": "code",
   "execution_count": 11,
   "metadata": {},
   "outputs": [],
   "source": [
    "container[\"key\"] = temper_key\n",
    "container.submit_selected()\n",
    "container.launch_browser()"
   ]
  },
  {
   "cell_type": "code",
   "execution_count": 17,
   "metadata": {},
   "outputs": [],
   "source": [
    "url = \"https://m.cafe.naver.com/ArticleSearchList.nhn?\"\n",
    "params = {\n",
    "    \"search.query\":\"건담\",\n",
    "    \"search.clubid\":\"10050146\",\n",
    "    \"search.page\":1\n",
    "}"
   ]
  },
  {
   "cell_type": "code",
   "execution_count": 18,
   "metadata": {},
   "outputs": [],
   "source": [
    "soup = container.open(url,params = params).soup"
   ]
  },
  {
   "cell_type": "code",
   "execution_count": 38,
   "metadata": {},
   "outputs": [
    {
     "name": "stdout",
     "output_type": "stream",
     "text": [
      "20 20\n"
     ]
    }
   ],
   "source": [
    "title = []\n",
    "contents = []\n",
    "for tag in soup.select(\"#articleList .item\"):\n",
    "    tl = tag.select(\".tit h3\")[0].text\n",
    "    cont = tag.select(\".post_area\")[0].text\n",
    "    #print(cont)\n",
    "    title.append(tl)\n",
    "    contents.append(cont)\n",
    "    \n",
    "    \n",
    "print(len(title),len(contents))"
   ]
  },
  {
   "cell_type": "code",
   "execution_count": 39,
   "metadata": {},
   "outputs": [
    {
     "data": {
      "text/plain": [
       "['\\n            \\t부품이상없슴) HG 노벨건담 12,000 HG 로렌줄루 22,000 HG 짐3 12,000 고토부키야 로지코마 50,000 피규어 제일복권A상 아스나 60,000 넨드로이드 592번 하이큐 니시노아... \\n            ',\n",
       " '\\n            \\t개인거래(판매), 판매중, 가격 2,000원, 안전거래 미사용, 건담 일반판 7배, 그외 9배로 싸게 정리합니다., 010 사사팔이 0200 연락주세요~!! \\n            ',\n",
       " '\\n            \\t개인거래(판매), 판매중, 가격 11,111원, 안전거래 미사용, [즉구낙찰]SDCS 퍼스트건담 팝니다., SDCS 퍼스트 건담 도색작팝니다. 사용도료 : 피니셔스화이트 , 군제... \\n            ',\n",
       " '\\n            \\t개인거래(판매), 판매중, 가격 120,000원, 안전거래(네이버페이), 아디다스 대장급 빅로고 건담 바람막이, 아디다스 대장급 빅로고 건담 바람막이 입니다 배색하고... \\n            ',\n",
       " '\\n            \\t개인거래(판매), 판매중, 가격 180,000원, 안전거래 미사용, 클럽G, MG 윙ew 시리즈 세트판매합니다, 윙건담 시리즈 판매합니다. 하이레졸 윙건담제로ew-판매완료- MG... \\n            ',\n",
       " '\\n            \\t개인거래(판매), 판매중, 가격 2,000원, 안전거래 미사용, 가조립 건담 싸게... 5 베이스드림 건베한정 건담 가격 3.5 베이스드림 상태양호 가격 1.5 발바토스 6형태 상태양호... \\n            ',\n",
       " '\\n            \\t개인거래(판매), 판매중, 가격 150,000원, 안전거래 미사용, 리복 퓨리 건담, 안녕하세요:) 리복 퓨리 건담 판매합니다. 사이즈 235 가격은 15 입니다. 문자연락... \\n            ',\n",
       " '\\n            \\t, MG 아스트레이 골드프레임 골드코팅 - 96,000 MG 풀아머 유니콘 건담 - 60,000 MG 저스티스 스페셜 코팅 - 100,000 MG 세븐소드 클리어컬러 - 66,000 착불 or 택비 5,000... \\n            ',\n",
       " '\\n            \\t개인거래(판매), 판매중, 가격 70,000원, 안전거래 미사용, 나이키 새제품 M2K 테크노 우먼스 건담 팝니다, 한번도 신지 않은 해외직구로 산 상품입니다 240사이즈로 실제... \\n            ',\n",
       " '\\n            \\t개인거래(판매), 판매중, 가격 2,222원, 안전거래 미사용, [18,08.11 갱신] 건담, 건프라 일괄 판매 합니다 (서비스 많음)<각개는 개별 연락 요망>, 더운 날씨 속에 건프라 가족... \\n            ',\n",
       " '\\n            \\t직감 히트후데 5000원 일판 GBA SD 건담 G 제너레이션 5000원 직거래는 성남시 성남 초등학교 에서하고 다른 지역은 택배거래 합니다.(배송료 3000원 추가) 연락 주세요. \\n            ',\n",
       " '\\n            \\t육전형 건담 (구판) 0.4 rg 데스티니 0.9씰이 없습니다있을건 다 있는거 같은데... 리본즈 건담 0.4빔샤벨은 하나이고 사진 구성이 전부입니다가변하고 끼우는 손... \\n            ',\n",
       " '\\n            \\t개인거래(판매), 판매중, 가격 10,000원, 안전거래 미사용, 원피스 제일복권 아츠제로 건담 건프라Mg PG조립 팝니다, 안녕하세요 원피스 피규어 건담 저렴하게정리합니다... \\n            ',\n",
       " '\\n            \\t개인거래(판매), 판매중, 가격 50,000원, 안전거래 미사용, ps4 더크루2, 새제품입니다 소닉마니아플러스 건담브레이커 팡어드벤처 같이 구매시 개당 만원에드려요! \\n            ',\n",
       " '\\n            \\t안전거래 미사용, ps4 새제품 용과같이3, 파크라이3 등, 용과같이3 파크라이3 와 아래 중 하나 묶어서 판매합니다. 새제품이에요 연락주세요. +건담브레이커 or 소닉마니아 \\n            ',\n",
       " '\\n            \\t10-07 건담 피규어 4종 메모리얼 건담 피규어 (건담ZZ , 건담GP-01F 풀버니언) 커버일러스트 피규어 (풀아머건담, 검은삼연성 자쿠 고기동형) 판매가: 3만원 그밖에... \\n            ',\n",
       " '\\n            \\t한 4년 됬나 건담 덕후인 군인 삼촌이 일본갔다가 자기가 직접사서 조립했다고 주던데... 그래서 설명서도 없고 정품인증서(원래 건담에 있는지 없는지도 모르지만)도 없고 해서... \\n            ',\n",
       " '\\n            \\t미개봉 건담 싸게 팝니다 (가격인하), MG 더블오 퀀터 트랜스암 모드... 무사건담 마크2 47000원MG 백식 2.0 54000원MG 뉴건담 버카 53000원MG 하이뉴 버카 53000원MG... \\n            ',\n",
       " '\\n            \\t개인거래(판매), 판매중, 가격 2,000원, 안전거래 미사용, 레고, 건담, gund bear... 배송비 3천원 건담2016 엑스포 한정 HGUC V2 어설트 버스터 클리어 어설트 코팅 Ver... \\n            ',\n",
       " '\\n            \\t개인거래(판매), 판매중, 가격 2,000원, 안전거래 미사용, 레고, 건담, gund bear... 배송비 3천원 건담2016 엑스포 한정 HGUC V2 어설트 버스터 클리어 어설트 코팅 Ver... \\n            ']"
      ]
     },
     "execution_count": 39,
     "metadata": {},
     "output_type": "execute_result"
    }
   ],
   "source": [
    "contents"
   ]
  },
  {
   "cell_type": "code",
   "execution_count": null,
   "metadata": {},
   "outputs": [],
   "source": []
  }
 ],
 "metadata": {
  "kernelspec": {
   "display_name": "Python 3",
   "language": "python",
   "name": "python3"
  },
  "language_info": {
   "codemirror_mode": {
    "name": "ipython",
    "version": 3
   },
   "file_extension": ".py",
   "mimetype": "text/x-python",
   "name": "python",
   "nbconvert_exporter": "python",
   "pygments_lexer": "ipython3",
   "version": "3.6.4"
  }
 },
 "nbformat": 4,
 "nbformat_minor": 2
}
