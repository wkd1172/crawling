{
 "cells": [
  {
   "cell_type": "markdown",
   "metadata": {},
   "source": [
    "## 일회용아이디 하는법\n",
    "\n",
    "https://blog.naver.com/et119jin/221146056192"
   ]
  },
  {
   "cell_type": "code",
   "execution_count": 1,
   "metadata": {},
   "outputs": [],
   "source": [
    "import pandas as pd\n",
    "import numpy as np \n",
    "from getpass import getpass\n",
    "import mechanicalsoup"
   ]
  },
  {
   "cell_type": "code",
   "execution_count": 2,
   "metadata": {},
   "outputs": [],
   "source": [
    "container = mechanicalsoup.StatefulBrowser()"
   ]
  },
  {
   "cell_type": "code",
   "execution_count": 4,
   "metadata": {},
   "outputs": [],
   "source": [
    "url_login = \"https://nid.naver.com/nidlogin.login?mode=number\"\n",
    "container.open(url_login)\n",
    "container.select_form(\"#frmNIDLogin\")\n",
    "temper_key = \"87634981\"\n",
    "container[\"key\"] = temper_key\n",
    "container.submit_selected()\n",
    "container.launch_browser()"
   ]
  },
  {
   "cell_type": "code",
   "execution_count": 55,
   "metadata": {},
   "outputs": [],
   "source": [
    "url = \"https://m.cafe.naver.com/ArticleSearchList.nhn?\"\n",
    "title = []\n",
    "contents = []\n",
    "contents_sub = []\n",
    "for page in range(1,2):\n",
    "    params = {\n",
    "        \"search.query\":\"건담\",\n",
    "        \"search.clubid\":\"10050146\",\n",
    "        \"search.page\": page\n",
    "    }\n",
    "    soup = container.open(url,params = params).soup\n",
    "    for tag in soup.select(\"#articleList li\"):\n",
    "        tl = tag.select(\".tit h3\")[0].text\n",
    "        cont = tag.select(\".post_area\")[0].text.replace(\"\\n\",\"\").replace(\"\\t\",\"\").strip()\n",
    "        url_sub = \"https://m.cafe.naver.com/\"\n",
    "        params_sub = tag.find(\"a\")[\"href\"]\n",
    "        url_sub_2 = url_sub + params_sub\n",
    "        #print(url_sub_2)\n",
    "        #break\n",
    "        #print(type(cont))\n",
    "        #break\n",
    "        soup_sub = container.open(url_sub_2).soup\n",
    "        cont_sub = \"\"\n",
    "        for tag_sub in soup_sub.select(\"#postContent > .NHN_Writeform_Main\"):\n",
    "            ct_sub = tag_sub.text\n",
    "            cont_sub = cont_sub + ct_sub\n",
    "            #cont_sub.append(ct_sub)\n",
    "        cont_sub.strip()\n",
    "        contents_sub.append(cont_sub)\n",
    "        title.append(tl)\n",
    "        contents.append(cont)\n",
    "        \n",
    "    \n",
    "    "
   ]
  },
  {
   "cell_type": "code",
   "execution_count": 45,
   "metadata": {},
   "outputs": [],
   "source": [
    "df = pd.DataFrame({\"title\":title,\"contents\":contents})"
   ]
  },
  {
   "cell_type": "code",
   "execution_count": 56,
   "metadata": {},
   "outputs": [
    {
     "data": {
      "text/plain": [
       "['',\n",
       " '',\n",
       " '01.앙상블 ex01탄 풀아머 유니콘 미개봉-30만원02.ex02 크샤트리아 14만원03.앙상블 00탄 2종\\xa09만원 04.앙상블 01탄 5종 15만원05.앙상블 02탄 5종 7만원05.앙상블 03탄 5종\\xa0-판매완료06.앙상블 04탄 5종 세트\\xa0 4만원07.앙상블 05탄 5종 세트\\xa0 4만원08.앙상블 06탄 5종 세트\\xa0 35000원09.앙상블ex04탄 댄디라이언 미개봉\\xa0 18만원(특전 데칼포함)10.컨버지 화이트 베이스 미개봉 20만원11.단품 앙상블 2.5탄 리얼타입 짐 미개봉\\xa0\\xa0\\xa0\\xa012000원12.단품 앙상블 6탄\\xa0\\xa0\\xa0 스타크 제간 미개봉\\xa0\\xa0\\xa0 12000원직거래및 우편거래 하고있습니다\\xa0\\xa0 우체국이용\\xa04,000원추가 화이트 베이스만 5천원추가',\n",
       " '클럽G PG유니콘건담 최종결전 미개봉 27만원\\xa0클럽G PG트랜스 암 더블오 라이저 미개봉 + 클럽G PG트랜스암 더블오 클리어 파츠 미개봉\\xa0 30만원(개별판매도 가능 합니다)PG 벤시 유니콘+정품LED +암드아머 \\xa0SET - 30만원(개별판매도 가능 합니다 8배 적용합니다)mg 제품mg 다크매터 40000mg 뉴건담 버카\\xa0 56000(박스 지저분함)\\xa0 물품은 이상 없습니다mg 블루 프레임d\\xa0 38000(박스 지저분함)\\xa0 물품은 이상 없습니다.rg 클럽g 네오지옹 메탈릭 버젼\\xa0 42000원전부 미개봉 품이며 서울 강남 역삼 처등학교 직거래 원하구요인천 제물포에서는 주말에 직거래 가능 합니다01030385974로 연락 부탁 드립니다',\n",
       " '긴말 필요 없이 미개봉품들입니다..빠른 정리를 위해 11배로 판매합니다..직거래는 사당역 평일 오전 11시~오후 3시 까지 가능하며택배는 꼼꼼히 포장하여 착불로 보내드립니다..문자는 공10-50일일-공공05 입니다..네고는 정중히 사양합니다.\\xa0\\xa0 \\xa0품\\xa0\\xa0\\xa0 명\\xa0\\xa0 가\\xa0\\xa0\\xa0 격\\xa0스트라이크 로그 + I.W.S.P.\\xa0 Strike Rouge + I.W.S.P.\\xa033,000\\xa0스트라이크 건담 디엑티브 모드\\xa0\\xa0Strike Gundam Deactive Mode\\xa022,000\\xa0건담 아스트레이 골드 프레임\\xa0 Gundam Astray Gold Frame\\xa030,000\\xa0프리덤 건담 디엑티브 모드\\xa0 Freedom Gundam Deactive Mode\\xa025,000\\xa0',\n",
       " '',\n",
       " '',\n",
       " '',\n",
       " '',\n",
       " '\\xa0\\xa0\\xa0\\xa0\\xa0\\xa0하이레솔 윙건담 동그라미부분 순접했습니다. 아시겠지만 너무 헐거운관계로 어쩔수 없습니다.그외 버스터건담? 총연결부분 한군데 부러뎠는데 순접하면 이상없을듯합니다.그외 모드제품 이상없으며 잊어버린 부품 없습니다.일괄로만 판매하며 베이스까지 택포\\xa025만원에 드립니다. 네고,낱개 문의 사절합니다.\\xa0010 사사팔이 0200 연락주세요',\n",
       " '1. 모든 제품은 영실업 손오공 아카데미 정품 제품 입니다.2. 꼭 사실분만 쪽지, 문자, 전화 주세요 (전화로 바로 주문 하시는게 빠름니다)3. 쪽지, 문자 남겨 주시면 확인하는데로 연락 드립니다4. 판매 완료되면 실선처리 됩니다 5. misb = Mint In Sealed Box 의 약자(공장에서 나온 출시상태 그대로인 씰이 붙어있는 박스를 의미합니다 새상품이란 뜻)6. 택배비 = 3000 별도 (20만원 이상 무료)7. 토요일 일요일 주문건은 월요일 일괄 배송8. 궁금한 점이나 문의는 덧글에 연락처 남기거나 문자주시면 전화 드립니다 9. 직거래는 평일-인천 원인재역 5번 출구\\xa0\\xa0\\xa0\\xa0 주말- 서울 목동 신정역, 부천 0. 직거래는 5만 이하는 부천 원종초등학교 정문에서만 \\xa0\\xa0\\xa0 주말 서울 목동신정역\\xa0인천 원인재역\\xa010만 이상 직거래 가능 % - 연락처(0505-668-8700) 로그인시 위쪽에 안심번호 이용중 클릭하면 나옵니다 %. misb 레고\\xa010256 타지마할 == 497000\\xa0\\xa0\\xa0\\xa0%. misb 레고 71043 해리포터 호그와트 성\\xa0 ==\\xa0 640000 %. misb 레고\\xa021311 볼트론^ \\xa0==\\xa0\\xa0279000\\xa0\\xa0\\xa0\\xa0\\xa0*. 중고 아이벨트 포터블 카시트 \\xa0== \\xa097000\\xa0 -->\\xa0 32000\\xa0 \\xa0\\xa0*. 너프 물총%. misb 너프 수퍼소커 토네이도 스크림\\xa0==\\xa022000\\xa0\\xa0\\xa0%. misb 너프 수퍼소커 보틀 블리츠 == 12000 \\xa0*. 아카데미%. misb 아카데미\\xa0독일 4호 대공전차\\xa0==\\xa015000\\xa0\\xa0 -->\\xa0 10000\\xa0*. 손오공%. misb 손오공 얼티메이트 베이스타디움 4D\\xa0==\\xa052000\\xa0 --> 32000\\xa0 %. misb 메탈베이블레이드 4D WBBA\\xa0프로페셔널 세트\\xa0==\\xa042000\\xa0\\xa0--> 35000\\xa0%.\\xa0중고 후로티로봇 DX자이언트봇.오렌지봇.애플봇.파인봇\\xa0==\\xa035000 %.\\xa0misb 터닝메카드W 팝업볼\\xa0==\\xa04000 \\xa0\\xa0*. 영실업 강철소방대 파이어로보 와치카2%.\\xa0misb 파이어로보 피닉스이안\\xa0==\\xa07000 %. misb 파워배틀 와치카 배틀범퍼카 아반\\xa0 ==\\xa0 7000 \\xa0%. misb 와치카2 울트라 아반 스페셜\\xa0==\\xa07000\\xa0 \\xa0 %.\\xa0영실업 베이블레이드버스트 %. misb\\xa0영실업\\xa0부스터 B-63 비스트베히모스.H.H\\xa0==\\xa07000\\xa0%. misb 한정판 메탈스톰 스프리건.K.U\\xa0==\\xa011000\\xa0 %. misb 베이블레이드 배틀 글러브_LIME[S]\\xa0 ==\\xa0 12000\\xa0%. misb\\xa0영실업\\xa0툴 B-70\\xa0소드런처 블루\\xa0==\\xa06700\\xa0\\xa0\\xa0 \\xa0%. misb\\xa0영실업\\xa0스타터 B-79 드레인파브닐.8.Nt\\xa0==\\xa016000\\xa0 \\xa0\\xa0%. misb\\xa0영실업\\xa0툴 B-81\\xa0라이트 런처 L\\xa0( 좌회전 )==\\xa06000\\xa0\\xa0\\xa0\\xa0%. misb\\xa0영실업 부스터 B-82 알타 크로노스.6M.T\\xa0==\\xa012000\\xa0\\xa0%. misb\\xa0영실업\\xa0툴 B-83 너클 그립\\xa0==\\xa06000\\xa0\\xa0%. misb\\xa0영실업\\xa0툴 B-40\\xa0런처그립 블랙\\xa0==\\xa06000\\xa0\\xa0\\xa0\\xa0 %. misb 영실업 툴 B-109 런처그립 건 메탈릭\\xa0 ==\\xa0 6900 \\xa0%. misb\\xa0영실업 부스터 B-85 킬러 데스사이저.2V.Hn\\xa0==\\xa011500\\xa0\\xa0\\xa0\\xa0%. misb\\xa0영실업\\xa0툴 B-88\\xa0베이런처 LR \\xa0== \\xa09000\\xa0\\xa0 \\xa0\\xa0%. misb 영실업 스타터 B-86 레전드 스프리건.7.Mr\\xa0==\\xa017500\\xa0\\xa0\\xa0%. misb\\xa0영실업\\xa0부스터 B-89 블라스트 지니어스.5G.Gr\\xa0==\\xa012900\\xa0 \\xa0%. misb\\xa0영실업 B-90 3-on-3 배틀 부스터 세트\\xa0==\\xa029000\\xa0\\xa0%. misb\\xa0영실업\\xa0툴 B-91 메탈 갓 칩\\xa0==\\xa06000 \\xa0%. misb\\xa0영실업\\xa0스타터 B-92 지크 엑스칼리버.1.Ir\\xa0==\\xa016000\\xa0\\xa0\\xa0 %. misb\\xa0영실업\\xa0툴 B-93 디지털 소드런처\\xa0블루\\xa0==\\xa037000\\xa0 %. misb\\xa0영실업\\xa0툴 B-94 디지털 소드런처 레드\\xa0==\\xa037000\\xa0\\xa0\\xa0%. misb\\xa0영실업\\xa0스타터 B-97 나이트메어 롱기누스.Ds\\xa0==\\xa017000\\xa0\\xa0\\xa0 \\xa0%. misb\\xa0영실업 B-98 갓 커스터마이즈 세트\\xa0==\\xa048000\\xa0\\xa0\\xa0 (드레인파브닐.아크바하무트.딥카오스.토네이도와이번)\\xa0\\xa01. 영실업 B98 (레드)드레인 파브닐.7S.Z\\xa0 세트 \\xa0==\\xa0 12000 \\xa02. 영실업 B98 아크 바하무트.2B.At\\xa0 세트\\xa0 ==\\xa0 18000 \\xa0\\xa03. 영실업 B98 딥 카오스.4F.Br\\xa0 세트\\xa0 ==\\xa0 19000 \\xa04. 영실업 B98 (옐로우)토네이도 와이번.1M.Sp\\xa0 세트\\xa0 ==\\xa0 11000 \\xa0%. 영실업 B-98 갓 커스터마이즈 레이어 \\xa01. 드레인파브닐\\xa0 ==\\xa0 7000 2. 아크바하무트\\xa0 ==\\xa0 12000 3. 딥카오스\\xa0 ==\\xa0 12000 4. 토네이도와이번\\xa0 ==\\xa0 7000 %. misb 영실업 툴 B-99 베이런처 L 클리어 화이트 == 8000 \\xa0%. misb 영실업 스타터 B-100 스프리건 레퀴엠.0.Zt == 19000\\xa0\\xa0\\xa0\\xa0%. misb 영실업 스타터 BBG-13 스프리건 레퀴엠.0.Zt ( 골드 Ver 한정판 )\\xa0 ==\\xa0 25000\\xa0 \\xa0\\xa0%. misb 영실업 부스터 B-102 트윈 네메시스.3H.Ul == 11500 \\xa0\\xa0%. misb 영실업 부스터 B-103 스크류 트라이던트.8B.Wd == 11500 \\xa0\\xa0%. misb 영실업 스타터 B-104 위닝 발키리.12.Vl\\xa0 ==\\xa0 16900\\xa0%. misb 영실업 스타터 B-105 제트 아킬레스.11.Xt\\xa0\\xa0 ==\\xa0 16900\\xa0 %. misb 영실업 부스터 B-106 엠퍼러 포르네우스.0.Yr\\xa0\\xa0 ==\\xa0 10900\\xa0\\xa0%. misb 영실업 스타터 B-110 블러디 롱기누스.13.Jl\\xa0 ==\\xa0 16900\\xa0 \\xa0%. misb 영실업 부스터 B-113 헬 살라맨더.12.Op\\xa0 ==\\xa0 11900 \\xa0%. misb 영실업 부스터 B-115 아처 헤라클레스.13.Et\\xa0 ==\\xa0 11900\\xa0 \\xa0*. 베이블레이드버스트 B-111 랜덤 부스터 Vol.10\\xa0\\xa0\\xa0\\xa0\\xa0\\xa0\\xa0 < 스티커만 확인한 새제품입니다 >\\xa0\\xa0\\xa0\\xa01. B111 크래쉬 라그나로크.11R.Wd\\xa0 ==\\xa0 22000 \\xa02. B111 위닝 발키리.8.Gr\\xa0 ==\\xa0 15000 \\xa03. B111 제트 아킬레스.4.Ds\\xa0 ==\\xa0 15000 \\xa04. B111 엠퍼러 포르네우스.7.Zt\\xa0 ==\\xa0 15000 \\xa05. B111 지크 엑스칼리버.5B.At\\xa0 ==\\xa0 19000 \\xa06. B111 스프리건 레퀴엠.6M.Ir\\xa0 ==\\xa0 19000 \\xa07. B111 로스트 롱기누스.2R.Mr\\xa0 ==\\xa0 15000 \\xa08. B111 레전드 스프리건.0U.Nt\\xa0 ==\\xa0 15000 \\xa0*. 베이블레이드버스트 B-101 랜덤 부스터 Vol.9 < 스티커만 확인한 새제품입니다 >1. B101 비트 쿠쿨칸.7U.Hn\\xa0 ==\\xa0 37000 \\xa02. B101 드랜져 플레임.Y.Zt\\xa0 ==\\xa0 15000 3. B101 발키리.1F.E\\xa0 ==\\xa0 13000 4. B101 블라스트 지니어스.1.D\\xa0 ==\\xa0 13000 5. B101 가디언 케르베우스.7.Nt\\xa0 ==\\xa0 14000 6. B101 크라이스 사탄.5.Gr\\xa0 ==\\xa0 15000 7. B101 매드 미노보로스.5V.Z\\xa0 ==\\xa0 13000 8. B101 기간트 가이아.8U.Q\\xa0 ==\\xa0 17000 *. 베이블레이드버스트 B-95 랜덤 부스터 Vol.8 \\xa0< 스티커만 확인한 새제품입니다 >\\xa0 \\xa01.\\xa0B95 쉘터 레귤루스.5S.Tw\\xa0 ==\\xa0 37000\\xa0 \\xa0\\xa0 2.\\xa0B95 알타 크로노스.R.Tw\\xa0 ==\\xa0 17000 \\xa03.\\xa0B95 킬러 데스사이저.Q.Lp\\xa0 ==\\xa0 15000 \\xa0 4.\\xa0B95 블레이즈 라그나로크.T.R\\xa0 ==\\xa0 12000\\xa0\\xa0 \\xa0 5.\\xa0B95 예거 이그드라실.8M.Q\\xa0 ==\\xa0 15000\\xa0\\xa0 \\xa0 6.\\xa0B95\\xa0쿼드 케찰콰틀.4S.Fl\\xa0 ==\\xa0 17000 \\xa0 7.\\xa0B95 드라군 스톰.5M.Lp\\xa0 ==\\xa0 15000\\xa0\\xa0\\xa0 8.\\xa0B95 드라이거 슬래시.4V.Hn\\xa0 ==\\xa0 15000\\xa0\\xa0 \\xa0 *. 베이블레이드버스트 B-87 랜덤 부스터 Vol.7 \\xa0\\xa0 < 스티커만 확인한 새제품입니다 > \\xa0 1. B87 맥시멈 가루다.8F.Fl\\xa0 ==\\xa0\\xa000000\\xa0\\xa0 \\xa02. B87 갓 발키리.2.Fl\\xa0 ==\\xa0 27000\\xa0\\xa0 \\xa0\\u200b3.\\xa0B87 크라이스 사탄.Y.Sp\\xa0 ==\\xa0 22000\\xa0\\xa0 \\xa0\\u200b4.\\xa0B87 블레이즈 라그나로크.N.L\\xa0 ==\\xa0 22000\\xa0\\xa0 \\xa0\\u200b5.\\xa0B87 드레셀 실드.4F.Cy\\xa0 ==\\xa0 22000\\xa0\\u200b6.\\xa0B87 드랜져 스파이럴.6C.Sp\\xa0 ==\\xa0 22000\\xa0\\u200b7.\\xa0B87 애시드 아누비스.8V.Lp\\xa0 ==\\xa0 22000\\xa0\\xa0\\xa0\\xa0\\u200b8.\\xa0B87 제일 요르문간드.6G.Nt\\xa0 ==\\xa0 19000\\xa0 *. 베이블레이드버스트 B-80 랜덤 부스터 Vol.6 \\xa0\\xa0\\xa0\\xa0\\xa0\\xa0 < 스티커만 확인한 새제품입니다 > 1. B80\\xa0토네이도와이번.4G.At\\xa0 == 00000\\xa0\\xa0\\xa02. B80 익시드 이블아이.G.At\\xa0 == 37000\\xa0 \\xa03. B80 팽 펜리르.P.At\\xa0 == 42000\\xa0\\xa0\\xa0\\xa0\\xa04. B80 익시드 이블아이.2G.W\\xa0 == 17000\\xa0\\xa0\\xa0\\xa0\\xa0\\xa05. B80 사이킥 팬텀.6C.Sp\\xa0 == \\xa022000 \\xa06. B80 인페르노 이프리트.2V.H\\xa0 == 22000 \\xa07. B80 팽 펜리르.6G.L\\xa0 == 27000\\xa08. B80 비스트 베히모스.4C.W\\xa0 == 22000\\xa0*. 베이블레이드버스트 드라이버 %. misb 베이 골드 퓨전 드라이버\\xa0 ==\\xa0 12000 \\xa0%. misb 베이 골드 디펜스 드라이버\\xa0 ==\\xa0 12000%. misb 베이 골드\\xa0엑셀 드라이버\\xa0 ==\\xa0 7000%. misb 베이 골드 서바이브 드라이버\\xa0 ==\\xa0 7000\\xa0*. 반다이 파워레인저 닌자포스 건담%.\\xa0중고 다이노 닌자 ( 1회조립 )\\xa0==\\xa012000 \\xa0\\xa0%. misb\\xa0건담 PG 1/60 아스트레이 레드프레임 == 117000\\xa0\\xa0( 구매이력 있는 분들만 가능 )\\xa0*. 레고 %. misb 레고 71043 해리포터 호그와트 성\\xa0 ==\\xa0 640000 %. misb 레고\\xa071042 캐리비안의 해적 사일런트 메리\\xa0== 297000\\xa0 --> 270000\\xa0%. misb 레고 42069 익스트림 어드벤쳐\\xa0 ==\\xa0 192000\\xa0 -->\\xa0 152000\\xa0%. misb 레고 42068 공항 구조차\\xa0 ==\\xa0 127000\\xa0 -->\\xa0 97000\\xa0%. misb 레고\\xa042052 헤비리프트 헬리콥터 == 177000\\xa0\\xa0 -->\\xa0 137000\\xa0%. misb 레고 42066 에어 레이스 제트\\xa0 ==\\xa0 182000\\xa0 -->\\xa0 137000\\xa0%. misb 레고\\xa042009 모바일 크레인 MK II == 390000\\xa0 -->\\xa0 330000\\xa0\\xa0%. misb 레고\\xa042055 버킷 휠 엑스케베이터 == 347000\\xa0 -->\\xa0 297000\\xa0%. misb 레고\\xa042039 24시 레이스카 == 187000\\xa0\\xa0%. misb 레고\\xa076087\\xa0플라잉 폭스: 배트모빌\\xa0공중공격 ==\\xa0\\xa0177000\\xa0 -->\\xa0 137000\\xa0%. misb 레고\\xa076052 배트케이브\\xa0== 390000\\xa0 -->\\xa0 250000\\xa0%. misb 레고\\xa076059 스파이더맨- 닥터 옥토퍼스의\\xa0함정\\xa0== 72000\\xa0 -->\\xa0 47000\\xa0%. misb 레고\\xa076057 스파이더맨-웹 워리어즈의 전투\\xa0== 137000\\xa0 -->\\xa0 107000\\xa0%. misb 레고\\xa076046\\xa0저스티스 히어로즈: 하늘의 전투 == 92000\\xa0 -->\\xa0 72000\\xa0%. misb 레고\\xa076003 스몰빌의 결투 == 77000\\xa0\\xa0 -->\\xa0 57000\\xa0%. misb 레고\\xa070014 악어의 늪지 은식처\\xa0== 162000\\xa0\\xa0\\xa0%. misb 레고\\xa070133 스핀린의 동굴 \\xa0==\\xa0 62000\\xa0 -->\\xa0 30000\\xa0\\xa0\\xa0%. misb 레고\\xa070134 래버투스의 방어 요새\\xa0 ==\\xa0 87000\\xa0 -->\\xa0 57000\\xa0\\xa0\\xa0%. misb 레고 70135 크래거의 파이어스트라이커\\xa0\\xa0==\\xa0 42000 \\xa0%. misb 레고 70141 바르디의 아이스 벌처 글라이더\\xa0\\xa0==\\xa0 22000 %. misb 레고 70142 이리스의 파이어 이글 플라이어 \\xa0==\\xa0 47000 \\xa0%. misb 레고 70143 팽거의 세이버투스 워커\\xa0\\xa0==\\xa0 47000 \\xa0%. misb 레고 70144 라발의 파이어 라이온\\xa0\\xa0==\\xa0 92000 \\xa0\\xa0%. misb 레고\\xa070147 팽거의 얼음 요새\\xa0== 77000\\xa0\\xa0\\xa0%. misb 레고\\xa010256 타지마할 == 497000\\xa0\\xa0\\xa0\\xa0%. misb 레고\\xa017101 부스트 == 197000\\xa0\\xa0\\xa0%. misb 레고\\xa075192 밀레니엄 팔콘\"^ \\xa0== \\xa01100000\\xa0\\xa0\\xa0\\xa0%. misb 레고\\xa07965 밀레니엄 팔콘 == 290000\\xa0\\xa0%. misb 레고\\xa075105 밀레니엄 팔콘 == 200000\\xa0\\xa0%. misb 레고\\xa075183 다스베이더의 변신\\xa0== 44000\\xa0%. misb 레고\\xa075180 라스타\"의 탈출\\xa0== 127000\\xa0\\xa0 -->\\xa0 92000\\xa0%. misb 레고\\xa075169 나부의 결투\\xa0== 44000\\xa0\\xa0 %. misb 레고 75168 요다의 제다이 스타파이터\\xa0 ==\\xa0 44000\\xa0 \\xa0%. misb 레고 75156 크레닉의 임패리얼 셔틀\\xa0 ==\\xa0 137000\\xa0 -->\\xa0 117000\\xa0%. misb 레고 75155\\xa0반란군 U-윙 파이터 + 75160\\xa0 == 119000\\xa0\\xa0 -->\\xa0 92000\\xa0%. misb 레고 75152\\xa0어썰트 호버탱크\" == 57000\\xa0 -->\\xa0 42000\\xa0%. misb 레고\\xa075140\\xa0저항군 수송차량\" == 102000\\xa0\\xa0 -->\\xa0 67000\\xa0%. misb 레고\\xa075147\\xa0스타 스캐빈저\" == 82000\\xa0 --> 50000\\xa0\\xa0\\xa0%. misb 레고\\xa075099 레이의 스피더\\xa0== 37000\\xa0\\xa0 -->\\xa0 27000\\xa0%. misb 레고\\xa075141 케이넌의 스피드바이크\\xa0== 39000\\xa0\\xa0 -->\\xa0 30000\\xa0%. misb 레고\\xa075138\\xa0호수 공격\\xa0== 42000\\xa0\\xa0\\xa0 -->\\xa0 32000\\xa0%. misb 레고\\xa075875 포드 F-150 랩터와 포드 모델 A 핫로드\\xa0== 72000\\xa0\\xa0 -->\\xa0 57000%. misb 레고\\xa076051 수퍼 히어로 격전 == 112000\\xa0%. misb 레고\\xa031050 샌드위치샵\\xa0== 51000\\xa0\\xa0 -->\\xa0\\xa0 42000\\xa0%. misb 레고 60074 시티 불도저 == 52000 \\xa0%. misb 레고 60035 시티 북극기지 == 72000 \\xa0%. misb 레고 60110 소방서 == 137000\\xa0 -->\\xa0 122000\\xa0\\xa0%. misb 레고 9444 콜의 어썰트 바이크 = 82000\\xa0\\xa0 1. misb 레고 9450 에픽 드래곤 배틀 == 180000 \\xa0\\xa02. misb 레고 9449 울트라 소닉 전차 == 137000 \\xa03. misb 레고 9446 마스터 우의 드래곤 전함 = 280000\\xa0 \\xa0\\xa0\\xa0\\xa0\\xa0\\xa0\\xa0\\xa0\\xa0\\xa0\\xa0\\xa0\\xa0\\xa0\\xa0\\xa0\\xa0\\xa0\\xa0\\xa0\\xa0\\xa0\\xa0\\xa0\\xa0\\xa0\\xa0\\xa0\\xa0\\xa0\\xa0\\xa0\\xa0\\xa0\\xa0\\xa0\\xa0\\xa0\\xa0\\xa0\\xa0\\xa0\\xa0\\xa0\\xa0\\xa0\\xa0\\xa0\\xa0\\xa0\\xa0\\xa0\\xa0\\xa0\\xa0 * 택배 포장 샷 * \\xa0\\xa0',\n",
       " '',\n",
       " '',\n",
       " '',\n",
       " '',\n",
       " '',\n",
       " '',\n",
       " '',\n",
       " '',\n",
       " '']"
      ]
     },
     "execution_count": 56,
     "metadata": {},
     "output_type": "execute_result"
    }
   ],
   "source": [
    "contents_sub"
   ]
  },
  {
   "cell_type": "code",
   "execution_count": null,
   "metadata": {},
   "outputs": [],
   "source": []
  },
  {
   "cell_type": "code",
   "execution_count": null,
   "metadata": {},
   "outputs": [],
   "source": []
  }
 ],
 "metadata": {
  "kernelspec": {
   "display_name": "Python 3",
   "language": "python",
   "name": "python3"
  },
  "language_info": {
   "codemirror_mode": {
    "name": "ipython",
    "version": 3
   },
   "file_extension": ".py",
   "mimetype": "text/x-python",
   "name": "python",
   "nbconvert_exporter": "python",
   "pygments_lexer": "ipython3",
   "version": "3.6.4"
  }
 },
 "nbformat": 4,
 "nbformat_minor": 2
}
